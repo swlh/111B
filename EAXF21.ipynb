{
 "cells": [
  {
   "cell_type": "markdown",
   "metadata": {},
   "source": [
    "Updated by WLH on 8/24/21\n",
    "## EAX - Error Analysis Exercise"
   ]
  },
  {
   "cell_type": "markdown",
   "metadata": {},
   "source": [
    "### Note\n",
    "\n",
    "All new Physics 111 Advanced Lab students are required to complete this assignment at the beginning of the semester. It will be graded on 50 points basis; a late turn-in is allowed only with the instructor's approval before the due date. Don't jeopardize your grade on your first experiment by being late with this assignment. You need to know how to handle errors before you start a laboratory experiment.\n",
    "\n",
    "Important: View the <a href=\"http://youtu.be/jR54387Wd6c\">video introduction to error analysis</a> (you need to use your Berkeley email to access this). The Error Analysis Exercise due date is listed under <a href=\"http://experimentationlab.berkeley.edu/syllabus#Experimentation_Lab_Experiments_and_Due_Dates\">Advanced Lab Report Due Dates</a>."
   ]
  },
  {
   "cell_type": "markdown",
   "metadata": {},
   "source": [
    "### References\n",
    "\n",
    "<p>[<a class=\"external text\" href=\"http://physics111.lib.berkeley.edu/Physics111/Reprints/Data%20Analysis%20Book%20PDF/Data%20Analysis%20Book%20PDF_index.html\" rel=\"nofollow\" title=\"http://physics111.lib.berkeley.edu/Physics111/Reprints/Data%20Analysis%20Book%20PDF/\">Books available online with UC Berkeley authentication</a>]</p>\n",
    "<ol><li>P. Bevington, <a href=\"http://physics111.lib.berkeley.edu/Physics111/Reprints/Data%20Analysis%20Book%20PDF/Bevington-Copy.pdf\">\"<strong>Data Reduction and Error Analysis for the Physical Sciences\",</strong></a> McGraw-Hill. [An old standard that is pretty dry but straightforward. Chapter 5 is particularly important.]</li>\n",
    "<li>A. C. Melissinos and J. Napolitano, [<a class=\"external text\" href=\"http://physics111.lib.berkeley.edu/Physics111/Reprints/Experiments%20in%20Modern%20Physics%202nd%20Edition/Error%20Analysis%20elements%20from%20the%20theory%20of%20statistics.pdf\" rel=\"nofollow\" title=\"http://physics111.lib.berkeley.edu/Physics111/Reprints/Experiments%20in%20Modern%20Physics%202nd%20Edition/Error%20Analysis%20elements%20from%20the%20theory%20of%20statistics.pdf\">\"<strong>Experiments in Modern Physics, 2nd Edition\"</strong></a>], Academic Press (2003).</li>\n",
    "<li>W. H. Press, et al., [<a class=\"external text\" href=\"http://physics111.lib.berkeley.edu/Physics111/Reprints/Numerical%20Recipes%20in%20C/Numerical%20Recipes%20in%20C_index.html\" rel=\"nofollow\" title=\"http://physics111.lib.berkeley.edu/Physics111/Reprints/Numerical%20Recipes%20in%20C/\">\"<strong>Numerical Recipes in C</strong>:</a>] The Art of Scientific Computing, 2nd Edition\", Cambridge University Press (1992); refer to Ch. 14—\"Modeling of Data\". [The Numerical Recipes in Pascal or FORTRAN books contain identical information. This book is the standard reference for doing scientific work on computers. Chapter 14 has a good introduction to the method of maximum likelihood, chi–square fitting, modeling data in general, error estimates of fit parameters, and, important for later experiments, the Monte Carlo method of simulation.]</li>\n",
    "<li>I. G. Hughes and T. P. A. Hase, <strong><a href=\"http://physics111.lib.berkeley.edu/Physics111/Reprints/Data%20Analysis%20Book%20PDF/Measurements-n-Uncertainties.pdf\">Measurements and their Uncertainties</a></strong>, Oxford University Press (2010). [This is a well-written thin book that covers many basic concepts of statistics, extremely useful for this course.]</li>\n",
    "<li>Louis Lyons, \"<strong><a href=\"http://physics111.lib.berkeley.edu/Physics111/Reprints/Data%20Analysis%20Book%20PDF/Error%20Analysis%20Book-Louis%20Lyons.pdf\">A Practical Guide to Data Analysis for Physical Science Students\"</a></strong>  (1991) Cambridge Press; QC33.L9 1991</li>\n",
    "<li>Yardley Beers, <a href=\"http://physics111.lib.berkeley.edu/Physics111/Reprints/Data%20Analysis%20Book%20PDF/Error%20Analysis%20-%20Beers_Theory%20of%20Error.pdf\">\"<strong>Introduction to the Theory of Error\"</strong>;</a> ADDISON-WESLEY PUBLISHING (1957) QA275 B4 1957;</li>\n",
    "</ol>\n",
    "\n",
    "<p><span style=\"font-size:16px\">Reprints and other information can be found on the <a href=\"http://physics111.lib.berkeley.edu/Physics111/\">Physics 111 Library Site.</a></span></p>"
   ]
  },
  {
   "cell_type": "markdown",
   "metadata": {},
   "source": [
    "### Introduction\n",
    "\n",
    "<p>In the 111-lab, the experiment does not end when you have finished collecting your data. In many labs, you will be required to perform a detailed analysis of the data you have acquired. The point of any scientific experiment is to make quantitative statements about the properties of the physical world. A common question is, are your measurements consistent with a particular theory or not? This question can only be answered by careful analysis, including both systematic uncertainties and statistical error.</p>\n",
    "<p>The goals of this exercise are twofold. One is to familiarize students with the basics of error analysis. Ideally, this will serve as a guide during the acquisition and analysis of data throughout the advanced lab. The second goal is to introduce students to the Python computing environment, which you will be using throughout the semester.</p>\n",
    "<p>Before starting on EAX, please look over either the Python Tutorials <a href=\"https://github.com/avirukt/intro_python\">https://github.com/avirukt/intro_python</a> or the<a href=\"/matlabintro\"> </a><a href=\"/matlabintro\" title=\"Intro to Matlab\">Intro to </a><a href=\"/matlabintro\">Matlab</a> section.  Additional resources for using Python are <a href=\"http://pythontutor.com/\">http://pythontutor.com/</a> and <a href=\"https://datahub.berkeley.edu/\">https://datahub.berkeley.edu/</a></p>"
   ]
  },
  {
   "cell_type": "markdown",
   "metadata": {},
   "source": [
    "## Problem Set:\n",
    "\n",
    "#### Problem 1: Poisson statistics\n",
    "\n",
    "We want to measure the activity (number of decays per second, a unit known as Becquerel) of a radioactive source so that we can use it to calibrate the equipment of the gamma-ray experiment. We use an electronic counter and a timer to measure the number of decays in a given time interval. In round numbers we obtain 1000 decays in 10 minutes. How long does it take (in seconds) in order to determine the activity with a statistical uncertainty of 2%? Explain.\n",
    "\n",
    "Enter the calculation in the cell below. Add a \"Markdown\" cell to explain your calculation"
   ]
  },
  {
   "cell_type": "markdown",
   "metadata": {},
   "source": [
    "#### Problem 2: Error propagation\n",
    "\n",
    "a) You are given the measurements of two sides of a rectangle $A$ and $B$ with the associate errors $\\sigma_A$ and $\\sigma_B$, respectively. Assuming $A$ and $B$ are uncorrelated, calculate the error in the:\n",
    ">   <br> (i) sum $A+B$\n",
    "    <br> (ii) difference $A-B$\n",
    "    <br> (iii) the perimeter $2A+2B$\n",
    "    <br> (iv) the area $A\\times B$\n",
    "    <br> (v) the aspect ratio $A/B$\n",
    "    \n",
    "b) In the muon lifetime experiment we obtain a histogram for the decay rate as a function of the time after the muon enters the detector and announces its presence. We expect the distribution (the histogram) to be described by an exponential function. Rather than fitting with an exponential function, it is more convenient to plot the logarithm of the decay rate as a function of time and then fit a straight line to it. Since each data point ($x_i,y_i$) has a statistical error, $\\sigma_i$, associated with it, qualitatively, what happens to these errors when the semi-log histogram $(x_i,\\log{y_i})$ is plotted? Explain and illustrate. what happens, quantitatively? Assume $y_i$ is reasonably large.\n",
    "\n",
    "c) In a separate experiment, you find that $log_{10} E_0 = 1.7 \\pm 0.7$ (at 68% confidence level, CL). What is the value of $E_0$ and the experimental bounds at 68% CL? (Note that 0.7 is not small compared to 1.7).\n",
    "\n",
    "Write down the calculation in the \"Markdown\" cell below, or enclose a separate file. Show detail of your calculation. "
   ]
  },
  {
   "cell_type": "markdown",
   "metadata": {},
   "source": [
    "#### Problem 3: Central Limit Theorem\n",
    "\n",
    "Here we will verify the Central Limit Theorem and reproduced a wikipedia plot (https://en.wikipedia.org/wiki/Central_limit_theorem#/media/File:Dice_sum_central_limit_theorem.svg)\n",
    "\n",
    "a) Write a function that returns $n$ integer random numbers, uniformly disributed between 1 and 6, inclusively. This represents $n$ throws of a fair 6-sided die. The value that comes up at each throw will be called the \"score\".\n",
    "\n",
    "b) Generate a distribution of 1000 dice throws and plot it as a  histogram normalized to unit area. Compute the mean $\\mu_1$ and standard deviation $\\sigma_1$ of this distribution. Compare your numerical result to the analytical calculation. \n",
    "\n",
    "c) Generate 1000 sets of throws of $N=2,3,4,5,10,20,30$ dice, computing the total sum of dice scores for each set. For each value of $N$, plot the distribution of total scores, and compute the mean $\\mu_N$ and standard deviation $\\sigma_N$ of each distribution. This should be similar to the plot at the link above.\n",
    "\n",
    "d) Plot the standard deviation $\\sigma_N$ as a function of $N$. Does it follow the Central Limit Theorem? "
   ]
  },
  {
   "cell_type": "markdown",
   "metadata": {},
   "source": [
    "#### Problem 4: gamma peak\n",
    "\n",
    "You are given a dataset (peak.dat, in the current directory) from a gamma-ray experiment consisting of ~1000 hits. Each line in the file corresponds to one recorded gamma-ray event, and stores the the measured energy of the gamma-ray. We will assume that the energies are randomly distributed about a common mean, and that each event is uncorrelated to others. Read the dataset from the enclosed file and:\n",
    "\n",
    "a) Produce a histogram of the distribution of energies. Choose the number of bins wisely, i.e. so that the width of each bin is smaller than the width of the peak, and at the same time so that the number of entries in the most populated bin is relatively large. Since this plot represents randomly-collected data, plotting error bars would be appropriate.\n",
    "\n",
    "b) Compute mean and standard deviation of the distribition of energies, and their uncertainties. \n",
    "\n",
    "c) Fit the distribution to a Gaussian function using an unbinned fit (<i>Hint:</i> use <tt>scipi.stats.norm.fit()</tt> function), and compare the parameters of the fitted Gaussian with the mean and standard deviation computed in (b)\n",
    "\n",
    "d) Fit the distribution to a Gaussian function using a binned least-squares fit (<i>Hint:</i> use <tt>scipy.optimize.curve_fit()</tt> function), and compare the parameters of the fitted Gaussian and their uncertainties to the parameters obtained in the unbinned fit above. \n",
    "\n",
    "e) How consistent is the distribution with a Gaussian? In other words, compare the histogram from (a) to the fitted curve, and compute a goodness-of-fit value, such as $\\chi^2$/d.f.\n"
   ]
  },
  {
   "cell_type": "markdown",
   "metadata": {},
   "source": [
    "#### Problem 5: Optical Pumping\n",
    "\n",
    "In the optical pumping experiment (OPT) we measure the resonant frequency of a Zeeman transition as a function of the applied current (proportional to the applied magnetic field). Consider a mock data set:\n",
    "\n",
    "<table border=\"1\" align=\"center\">\n",
    "<tr>\n",
    "<td>Current <i>I</i> (Amps)\n",
    "</td><td>0.0 </td><td> 0.2 </td><td> 0.4 </td><td> 0.6 </td><td> 0.8 </td><td> 1.0 </td><td> 1.2 </td><td> 1.4 </td><td> 1.6 </td><td> 1.8 </td><td> 2.0 </td><td> 2.2\n",
    "</td></tr>\n",
    "<tr>\n",
    "<td>Frequency <i>f</i> (MHz)\n",
    "</td><td> 0.13 </td><td> 0.60 </td><td> 1.21 </td><td> 1.94 </td><td> 2.47 </td><td> 3.07 </td><td> 3.83 </td><td> 4.16 </td><td> 4.68 </td><td> 5.60 </td><td> 6.31 </td><td> 6.55\n",
    "</td></tr></table>\n",
    "\n",
    "a) Plot a graph of the pairs of values. Assuming a linear relationship between $I$ and $f$, determine the slope and the intercept of the best-fit line using the least-squares method with equal weights, and draw the best-fit line through the data points in the graph.\n",
    "\n",
    "b) From what s/he knows about the equipment used to measure the resonant frequency, your lab partner hastily estimates the uncertainty in the measurement of $f$ to be $\\sigma(f) = 0.07$ MHz. Estimate the probability that the straight line you found is an adequate description of the observed data if it is distributed with the uncertainty guessed by your lab partner. (Hint: use scipy.stats.chi2 class to compute the quantile of the chi2 distribution).  What can you conclude from these results? \n",
    "\n",
    "c) Assume that the best-fit line found in Part 1 is a good fit to the data. Estimate the uncertainty in measurement of $y$ from the scatter of the observed data about this line. Again, assume that all the data points have equal weight. Use this to estimate the uncertainty in both the slope and the intercept of the best-fit line. This is the technique you will use in the Optical Pumping lab to determine the uncertainties in the fit parameters.\n",
    "\n",
    "d) Now assume that the uncertainty in each value of $f$ grows with $f$: $\\sigma(f) = 0.07 + 0.03 * f$ (MHz). Determine the slope and the intercept of the best-fit line using the least-squares method with unequal weights (weighted least-squares fit)\n"
   ]
  }
 ],
 "metadata": {
  "kernelspec": {
   "display_name": "Python 3 (ipykernel)",
   "language": "python",
   "name": "python3"
  },
  "language_info": {
   "codemirror_mode": {
    "name": "ipython",
    "version": 3
   },
   "file_extension": ".py",
   "mimetype": "text/x-python",
   "name": "python",
   "nbconvert_exporter": "python",
   "pygments_lexer": "ipython3",
   "version": "3.9.6"
  }
 },
 "nbformat": 4,
 "nbformat_minor": 4
}
